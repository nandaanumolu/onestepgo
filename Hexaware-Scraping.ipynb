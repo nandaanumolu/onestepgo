{
 "cells": [
  {
   "cell_type": "code",
   "execution_count": 1,
   "id": "cd9fdd74",
   "metadata": {},
   "outputs": [
    {
     "name": "stdout",
     "output_type": "stream",
     "text": [
      "Requirement already satisfied: lxml in c:\\users\\nanda\\anaconda3\\lib\\site-packages (4.9.1)\n"
     ]
    }
   ],
   "source": [
    "!pip install lxml"
   ]
  },
  {
   "cell_type": "code",
   "execution_count": null,
   "id": "294c3e74",
   "metadata": {},
   "outputs": [],
   "source": [
    "//*[@id=\"jobs\"]/div[2]/div/div\n",
    "//*[@id=\"jobs\"]/div[3]/div/div\n",
    "//*[@id=\"jobs\"]/div[2]/div/div/div/div[3]/ul/li[1]\n",
    "//*[@id=\"jobs\"]/div[2]/div/div/div/div[3]/ul/li[2]\n",
    "//*[@id=\"jobs\"]/div[2]/div/div/div/div[3]/ul/li[1]"
   ]
  },
  {
   "cell_type": "code",
   "execution_count": 2,
   "id": "f120a42c",
   "metadata": {},
   "outputs": [],
   "source": [
    "from lxml import html\n",
    "import requests"
   ]
  },
  {
   "cell_type": "code",
   "execution_count": null,
   "id": "80abb2fa",
   "metadata": {},
   "outputs": [],
   "source": []
  },
  {
   "cell_type": "code",
   "execution_count": 64,
   "id": "fdcc4acf",
   "metadata": {},
   "outputs": [
    {
     "data": {
      "text/plain": [
       "<Element a at 0x166d81f99f0>"
      ]
     },
     "execution_count": 64,
     "metadata": {},
     "output_type": "execute_result"
    }
   ],
   "source": [
    "url=\"https://jobs.hexaware.com/page/1\"\n",
    "res=requests.get(url)\n",
    "tree=html.fromstring(res.content)\n",
    "elements=tree.xpath('//*[@id=\"jobscard-applynow\"]')\n",
    "elements[0]"
   ]
  },
  {
   "cell_type": "code",
   "execution_count": 46,
   "id": "ee1d3d72",
   "metadata": {},
   "outputs": [
    {
     "name": "stdout",
     "output_type": "stream",
     "text": [
      "9 - 12 Years\n",
      "9 - 12 Years\n",
      "9 - 12 Years\n",
      "6 - 12 Years\n",
      "6 - 9 Years\n",
      "6 - 12 Years\n",
      "6 - 9 Years\n",
      "6 - 12 Years\n"
     ]
    }
   ],
   "source": [
    "for i in elements:\n",
    "    print(i.text)"
   ]
  },
  {
   "cell_type": "code",
   "execution_count": 65,
   "id": "7d395293",
   "metadata": {},
   "outputs": [
    {
     "name": "stdout",
     "output_type": "stream",
     "text": [
      "1\n",
      "2\n",
      "3\n",
      "4\n",
      "5\n"
     ]
    }
   ],
   "source": [
    "i=1\n",
    "all={}\n",
    "while(True):\n",
    "    url=\"https://jobs.hexaware.com/page/\"+str(i)\n",
    "    res=requests.get(url)\n",
    "    tree=html.fromstring(res.content)\n",
    "    elements=tree.xpath('//*[@id=\"jobs\"]/div[*]/div/div/div/h5')\n",
    "    if(len(elements)==0):\n",
    "        break\n",
    "    if(\"job_title\" not in all.keys()):\n",
    "        all[\"job_title\"]=elements\n",
    "    else:\n",
    "        all[\"job_title\"]=all[\"job_title\"]+elements\n",
    "    elements=tree.xpath('//*[@id=\"jobs\"]/div[*]/div/div/div/div[*]/ul/li[1]')\n",
    "    if(\"exp\" not in all.keys()):\n",
    "        all[\"exp\"]=elements\n",
    "    else:\n",
    "        all[\"exp\"]=all[\"exp\"]+elements\n",
    "    elements=tree.xpath('//*[@id=\"jobs\"]/div[*]/div/div/div/div[*]/ul/li[2]')\n",
    "    if(\"sal\" not in all.keys()):\n",
    "        all[\"sal\"]=elements\n",
    "    else:\n",
    "        all[\"sal\"]=all[\"sal\"]+elements\n",
    "    elements=tree.xpath('//*[@id=\"jobs\"]/div[*]/div/div/div/div[*]/ul/li[3]')\n",
    "    if(\"loc\" not in all.keys()):\n",
    "        all[\"loc\"]=elements\n",
    "    else:\n",
    "        all[\"loc\"]=all[\"loc\"]+elements\n",
    "    elements=tree.xpath('//*[@id=\"jobscard-applynow\"]')\n",
    "    if(\"link\" not in all.keys()):\n",
    "        all[\"link\"]=elements\n",
    "    else:\n",
    "        all[\"link\"]=all[\"link\"]+elements\n",
    "    print(i)\n",
    "    \n",
    "    i=i+1\n",
    "   "
   ]
  },
  {
   "cell_type": "code",
   "execution_count": 50,
   "id": "03718092",
   "metadata": {},
   "outputs": [
    {
     "name": "stdout",
     "output_type": "stream",
     "text": [
      "39\n"
     ]
    }
   ],
   "source": [
    "print(len(all[\"job_title\"]))"
   ]
  },
  {
   "cell_type": "code",
   "execution_count": 66,
   "id": "f1ad7a73",
   "metadata": {},
   "outputs": [],
   "source": [
    "for i in all.keys():\n",
    "    temp=[]\n",
    "    if(i==\"link\"):\n",
    "        for j in all[i]:\n",
    "            temp.append(j.attrib[\"href\"])\n",
    "        all[i]=temp\n",
    "    else:\n",
    "        for j in all[i]:\n",
    "            #print(j)\n",
    "            temp.append(j.text)\n",
    "        all[i]=temp"
   ]
  },
  {
   "cell_type": "code",
   "execution_count": 68,
   "id": "af3b8b3c",
   "metadata": {},
   "outputs": [
    {
     "data": {
      "text/plain": [
       "39"
      ]
     },
     "execution_count": 68,
     "metadata": {},
     "output_type": "execute_result"
    }
   ],
   "source": [
    "len(all[\"link\"])"
   ]
  },
  {
   "cell_type": "code",
   "execution_count": null,
   "id": "94b2da2e",
   "metadata": {},
   "outputs": [],
   "source": []
  }
 ],
 "metadata": {
  "kernelspec": {
   "display_name": "Python 3 (ipykernel)",
   "language": "python",
   "name": "python3"
  },
  "language_info": {
   "codemirror_mode": {
    "name": "ipython",
    "version": 3
   },
   "file_extension": ".py",
   "mimetype": "text/x-python",
   "name": "python",
   "nbconvert_exporter": "python",
   "pygments_lexer": "ipython3",
   "version": "3.9.13"
  }
 },
 "nbformat": 4,
 "nbformat_minor": 5
}
