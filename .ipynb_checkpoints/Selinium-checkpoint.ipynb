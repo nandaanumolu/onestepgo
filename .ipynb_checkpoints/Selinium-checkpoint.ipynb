{
 "cells": [
  {
   "cell_type": "code",
   "execution_count": 26,
   "id": "6443b268",
   "metadata": {},
   "outputs": [],
   "source": [
    "from selenium import webdriver\n",
    "from selenium.webdriver.common.keys import Keys"
   ]
  },
  {
   "cell_type": "code",
   "execution_count": null,
   "id": "665c2adf",
   "metadata": {},
   "outputs": [],
   "source": []
  },
  {
   "cell_type": "code",
   "execution_count": 44,
   "id": "a092d061",
   "metadata": {},
   "outputs": [],
   "source": [
    "driver = webdriver.Chrome() "
   ]
  },
  {
   "cell_type": "code",
   "execution_count": 64,
   "id": "a68bda65",
   "metadata": {},
   "outputs": [],
   "source": [
    "# option = webdriver.ChromeOptions()\n",
    "# option.add_argument('headless')\n",
    "# driver = webdriver.Chrome(options=option) "
   ]
  },
  {
   "cell_type": "code",
   "execution_count": 65,
   "id": "c686ce8f",
   "metadata": {},
   "outputs": [],
   "source": [
    "driver.get(\"https://www.google.com/\")  "
   ]
  },
  {
   "cell_type": "code",
   "execution_count": 66,
   "id": "e741784e",
   "metadata": {},
   "outputs": [],
   "source": [
    "driver.find_element(\"name\",\"q\").send_keys(\"javatpoint\")"
   ]
  },
  {
   "cell_type": "code",
   "execution_count": 43,
   "id": "4a7e5bc3",
   "metadata": {},
   "outputs": [
    {
     "ename": "WebDriverException",
     "evalue": "Message: disconnected: not connected to DevTools\n  (failed to check if window was closed: disconnected: not connected to DevTools)\n  (Session info: chrome=110.0.5481.104)\nStacktrace:\nBacktrace:\n\t(No symbol) [0x003F37D3]\n\t(No symbol) [0x00388B81]\n\t(No symbol) [0x0028B36D]\n\t(No symbol) [0x0027CB66]\n\t(No symbol) [0x0027C889]\n\t(No symbol) [0x0028CB00]\n\t(No symbol) [0x002F0AA0]\n\t(No symbol) [0x002DB216]\n\t(No symbol) [0x002B0D97]\n\t(No symbol) [0x002B253D]\n\tGetHandleVerifier [0x0066ABF2+2510930]\n\tGetHandleVerifier [0x00698EC1+2700065]\n\tGetHandleVerifier [0x0069C86C+2714828]\n\tGetHandleVerifier [0x004A3480+645344]\n\t(No symbol) [0x00390FD2]\n\t(No symbol) [0x00396C68]\n\t(No symbol) [0x00396D4B]\n\t(No symbol) [0x003A0D6B]\n\tBaseThreadInitThunk [0x76AD7D69+25]\n\tRtlInitializeExceptionChain [0x7788BB9B+107]\n\tRtlClearBits [0x7788BB1F+191]\n",
     "output_type": "error",
     "traceback": [
      "\u001b[1;31m---------------------------------------------------------------------------\u001b[0m",
      "\u001b[1;31mWebDriverException\u001b[0m                        Traceback (most recent call last)",
      "\u001b[1;32m~\\AppData\\Local\\Temp\\ipykernel_11668\\1587193259.py\u001b[0m in \u001b[0;36m<module>\u001b[1;34m\u001b[0m\n\u001b[1;32m----> 1\u001b[1;33m \u001b[0mbutton\u001b[0m\u001b[1;33m=\u001b[0m\u001b[0mdriver\u001b[0m\u001b[1;33m.\u001b[0m\u001b[0mfind_element\u001b[0m\u001b[1;33m(\u001b[0m\u001b[1;34m\"name\"\u001b[0m\u001b[1;33m,\u001b[0m\u001b[1;34m\"btnK\"\u001b[0m\u001b[1;33m)\u001b[0m\u001b[1;33m\u001b[0m\u001b[1;33m\u001b[0m\u001b[0m\n\u001b[0m\u001b[0;32m      2\u001b[0m \u001b[1;32mimport\u001b[0m \u001b[0mtime\u001b[0m\u001b[1;33m\u001b[0m\u001b[1;33m\u001b[0m\u001b[0m\n\u001b[0;32m      3\u001b[0m \u001b[0mtime\u001b[0m\u001b[1;33m.\u001b[0m\u001b[0msleep\u001b[0m\u001b[1;33m(\u001b[0m\u001b[1;36m5\u001b[0m\u001b[1;33m)\u001b[0m\u001b[1;33m\u001b[0m\u001b[1;33m\u001b[0m\u001b[0m\n",
      "\u001b[1;32m~\\anaconda3\\lib\\site-packages\\selenium\\webdriver\\remote\\webdriver.py\u001b[0m in \u001b[0;36mfind_element\u001b[1;34m(self, by, value)\u001b[0m\n\u001b[0;32m    828\u001b[0m             \u001b[0mvalue\u001b[0m \u001b[1;33m=\u001b[0m \u001b[1;34mf'[name=\"{value}\"]'\u001b[0m\u001b[1;33m\u001b[0m\u001b[1;33m\u001b[0m\u001b[0m\n\u001b[0;32m    829\u001b[0m \u001b[1;33m\u001b[0m\u001b[0m\n\u001b[1;32m--> 830\u001b[1;33m         \u001b[1;32mreturn\u001b[0m \u001b[0mself\u001b[0m\u001b[1;33m.\u001b[0m\u001b[0mexecute\u001b[0m\u001b[1;33m(\u001b[0m\u001b[0mCommand\u001b[0m\u001b[1;33m.\u001b[0m\u001b[0mFIND_ELEMENT\u001b[0m\u001b[1;33m,\u001b[0m \u001b[1;33m{\u001b[0m\u001b[1;34m\"using\"\u001b[0m\u001b[1;33m:\u001b[0m \u001b[0mby\u001b[0m\u001b[1;33m,\u001b[0m \u001b[1;34m\"value\"\u001b[0m\u001b[1;33m:\u001b[0m \u001b[0mvalue\u001b[0m\u001b[1;33m}\u001b[0m\u001b[1;33m)\u001b[0m\u001b[1;33m[\u001b[0m\u001b[1;34m\"value\"\u001b[0m\u001b[1;33m]\u001b[0m\u001b[1;33m\u001b[0m\u001b[1;33m\u001b[0m\u001b[0m\n\u001b[0m\u001b[0;32m    831\u001b[0m \u001b[1;33m\u001b[0m\u001b[0m\n\u001b[0;32m    832\u001b[0m     \u001b[1;32mdef\u001b[0m \u001b[0mfind_elements\u001b[0m\u001b[1;33m(\u001b[0m\u001b[0mself\u001b[0m\u001b[1;33m,\u001b[0m \u001b[0mby\u001b[0m\u001b[1;33m=\u001b[0m\u001b[0mBy\u001b[0m\u001b[1;33m.\u001b[0m\u001b[0mID\u001b[0m\u001b[1;33m,\u001b[0m \u001b[0mvalue\u001b[0m\u001b[1;33m:\u001b[0m \u001b[0mOptional\u001b[0m\u001b[1;33m[\u001b[0m\u001b[0mstr\u001b[0m\u001b[1;33m]\u001b[0m \u001b[1;33m=\u001b[0m \u001b[1;32mNone\u001b[0m\u001b[1;33m)\u001b[0m \u001b[1;33m->\u001b[0m \u001b[0mList\u001b[0m\u001b[1;33m[\u001b[0m\u001b[0mWebElement\u001b[0m\u001b[1;33m]\u001b[0m\u001b[1;33m:\u001b[0m\u001b[1;33m\u001b[0m\u001b[1;33m\u001b[0m\u001b[0m\n",
      "\u001b[1;32m~\\anaconda3\\lib\\site-packages\\selenium\\webdriver\\remote\\webdriver.py\u001b[0m in \u001b[0;36mexecute\u001b[1;34m(self, driver_command, params)\u001b[0m\n\u001b[0;32m    438\u001b[0m         \u001b[0mresponse\u001b[0m \u001b[1;33m=\u001b[0m \u001b[0mself\u001b[0m\u001b[1;33m.\u001b[0m\u001b[0mcommand_executor\u001b[0m\u001b[1;33m.\u001b[0m\u001b[0mexecute\u001b[0m\u001b[1;33m(\u001b[0m\u001b[0mdriver_command\u001b[0m\u001b[1;33m,\u001b[0m \u001b[0mparams\u001b[0m\u001b[1;33m)\u001b[0m\u001b[1;33m\u001b[0m\u001b[1;33m\u001b[0m\u001b[0m\n\u001b[0;32m    439\u001b[0m         \u001b[1;32mif\u001b[0m \u001b[0mresponse\u001b[0m\u001b[1;33m:\u001b[0m\u001b[1;33m\u001b[0m\u001b[1;33m\u001b[0m\u001b[0m\n\u001b[1;32m--> 440\u001b[1;33m             \u001b[0mself\u001b[0m\u001b[1;33m.\u001b[0m\u001b[0merror_handler\u001b[0m\u001b[1;33m.\u001b[0m\u001b[0mcheck_response\u001b[0m\u001b[1;33m(\u001b[0m\u001b[0mresponse\u001b[0m\u001b[1;33m)\u001b[0m\u001b[1;33m\u001b[0m\u001b[1;33m\u001b[0m\u001b[0m\n\u001b[0m\u001b[0;32m    441\u001b[0m             \u001b[0mresponse\u001b[0m\u001b[1;33m[\u001b[0m\u001b[1;34m\"value\"\u001b[0m\u001b[1;33m]\u001b[0m \u001b[1;33m=\u001b[0m \u001b[0mself\u001b[0m\u001b[1;33m.\u001b[0m\u001b[0m_unwrap_value\u001b[0m\u001b[1;33m(\u001b[0m\u001b[0mresponse\u001b[0m\u001b[1;33m.\u001b[0m\u001b[0mget\u001b[0m\u001b[1;33m(\u001b[0m\u001b[1;34m\"value\"\u001b[0m\u001b[1;33m,\u001b[0m \u001b[1;32mNone\u001b[0m\u001b[1;33m)\u001b[0m\u001b[1;33m)\u001b[0m\u001b[1;33m\u001b[0m\u001b[1;33m\u001b[0m\u001b[0m\n\u001b[0;32m    442\u001b[0m             \u001b[1;32mreturn\u001b[0m \u001b[0mresponse\u001b[0m\u001b[1;33m\u001b[0m\u001b[1;33m\u001b[0m\u001b[0m\n",
      "\u001b[1;32m~\\anaconda3\\lib\\site-packages\\selenium\\webdriver\\remote\\errorhandler.py\u001b[0m in \u001b[0;36mcheck_response\u001b[1;34m(self, response)\u001b[0m\n\u001b[0;32m    243\u001b[0m                 \u001b[0malert_text\u001b[0m \u001b[1;33m=\u001b[0m \u001b[0mvalue\u001b[0m\u001b[1;33m[\u001b[0m\u001b[1;34m\"alert\"\u001b[0m\u001b[1;33m]\u001b[0m\u001b[1;33m.\u001b[0m\u001b[0mget\u001b[0m\u001b[1;33m(\u001b[0m\u001b[1;34m\"text\"\u001b[0m\u001b[1;33m)\u001b[0m\u001b[1;33m\u001b[0m\u001b[1;33m\u001b[0m\u001b[0m\n\u001b[0;32m    244\u001b[0m             \u001b[1;32mraise\u001b[0m \u001b[0mexception_class\u001b[0m\u001b[1;33m(\u001b[0m\u001b[0mmessage\u001b[0m\u001b[1;33m,\u001b[0m \u001b[0mscreen\u001b[0m\u001b[1;33m,\u001b[0m \u001b[0mstacktrace\u001b[0m\u001b[1;33m,\u001b[0m \u001b[0malert_text\u001b[0m\u001b[1;33m)\u001b[0m  \u001b[1;31m# type: ignore[call-arg]  # mypy is not smart enough here\u001b[0m\u001b[1;33m\u001b[0m\u001b[1;33m\u001b[0m\u001b[0m\n\u001b[1;32m--> 245\u001b[1;33m         \u001b[1;32mraise\u001b[0m \u001b[0mexception_class\u001b[0m\u001b[1;33m(\u001b[0m\u001b[0mmessage\u001b[0m\u001b[1;33m,\u001b[0m \u001b[0mscreen\u001b[0m\u001b[1;33m,\u001b[0m \u001b[0mstacktrace\u001b[0m\u001b[1;33m)\u001b[0m\u001b[1;33m\u001b[0m\u001b[1;33m\u001b[0m\u001b[0m\n\u001b[0m",
      "\u001b[1;31mWebDriverException\u001b[0m: Message: disconnected: not connected to DevTools\n  (failed to check if window was closed: disconnected: not connected to DevTools)\n  (Session info: chrome=110.0.5481.104)\nStacktrace:\nBacktrace:\n\t(No symbol) [0x003F37D3]\n\t(No symbol) [0x00388B81]\n\t(No symbol) [0x0028B36D]\n\t(No symbol) [0x0027CB66]\n\t(No symbol) [0x0027C889]\n\t(No symbol) [0x0028CB00]\n\t(No symbol) [0x002F0AA0]\n\t(No symbol) [0x002DB216]\n\t(No symbol) [0x002B0D97]\n\t(No symbol) [0x002B253D]\n\tGetHandleVerifier [0x0066ABF2+2510930]\n\tGetHandleVerifier [0x00698EC1+2700065]\n\tGetHandleVerifier [0x0069C86C+2714828]\n\tGetHandleVerifier [0x004A3480+645344]\n\t(No symbol) [0x00390FD2]\n\t(No symbol) [0x00396C68]\n\t(No symbol) [0x00396D4B]\n\t(No symbol) [0x003A0D6B]\n\tBaseThreadInitThunk [0x76AD7D69+25]\n\tRtlInitializeExceptionChain [0x7788BB9B+107]\n\tRtlClearBits [0x7788BB1F+191]\n"
     ]
    }
   ],
   "source": [
    "button=driver.find_element(\"name\",\"btnK\")\n",
    "import time\n",
    "time.sleep(5)"
   ]
  },
  {
   "cell_type": "code",
   "execution_count": 68,
   "id": "f3810bff",
   "metadata": {},
   "outputs": [
    {
     "data": {
      "text/plain": [
       "<selenium.webdriver.remote.webelement.WebElement (session=\"8aa81186fde0792ca156c184abf319fe\", element=\"321b65f3-3a18-4665-8bc5-600b92543f9c\")>"
      ]
     },
     "execution_count": 68,
     "metadata": {},
     "output_type": "execute_result"
    }
   ],
   "source": [
    "button"
   ]
  },
  {
   "cell_type": "code",
   "execution_count": 69,
   "id": "898a3a63",
   "metadata": {},
   "outputs": [],
   "source": [
    "button.click()"
   ]
  },
  {
   "cell_type": "code",
   "execution_count": 58,
   "id": "1457afec",
   "metadata": {},
   "outputs": [
    {
     "name": "stdout",
     "output_type": "stream",
     "text": [
      "<selenium.webdriver.remote.webelement.WebElement (session=\"82816a1920a115f147d09bfd5c173c2a\", element=\"ad6291d9-b107-4606-abc8-578851158796\")>\n",
      "<selenium.webdriver.remote.webelement.WebElement (session=\"82816a1920a115f147d09bfd5c173c2a\", element=\"357469c2-0b3e-49fe-9f34-08c9ff4bd5c6\")>\n",
      "<selenium.webdriver.remote.webelement.WebElement (session=\"82816a1920a115f147d09bfd5c173c2a\", element=\"968ae052-da3e-4168-9c29-8bbf65dbb69b\")>\n",
      "<selenium.webdriver.remote.webelement.WebElement (session=\"82816a1920a115f147d09bfd5c173c2a\", element=\"a2742997-56b0-4294-8d9d-4b87c1abe286\")>\n",
      "<selenium.webdriver.remote.webelement.WebElement (session=\"82816a1920a115f147d09bfd5c173c2a\", element=\"4909a813-94cb-4e10-a843-6e3f479105f1\")>\n",
      "<selenium.webdriver.remote.webelement.WebElement (session=\"82816a1920a115f147d09bfd5c173c2a\", element=\"31027fd5-7178-4948-ac0e-4575cdb7e9d7\")>\n",
      "<selenium.webdriver.remote.webelement.WebElement (session=\"82816a1920a115f147d09bfd5c173c2a\", element=\"0ad365c8-1e07-4b30-83f4-f2efa1618eca\")>\n"
     ]
    }
   ],
   "source": [
    "import re,time\n",
    "from selenium.webdriver.common.by import By\n",
    "from selenium.webdriver.common.keys import Keys\n",
    "url=\"https://jobs.hexaware.com/job/analytics-data-science-and-iot-lead-230120?cp=0&p=0\"\n",
    "\n",
    "driver.get(url)\n",
    "s=driver.find_elements(By.CLASS_NAME,\"select2-selection__arrow\")\n",
    "for i in s:\n",
    "    print(i)\n",
    "driver.find_elements(By.CLASS_NAME,\"select2-search__field\")\n",
    "for i in s2:\n",
    "    print(i)\n",
    "driver.find_element(\"name\",\"first-name\").send_keys(\"nanda\")\n",
    "driver.find_element(\"name\",\"last-name\").send_keys(\"anumolu\")\n",
    "#=driver.find_element(By.CLASS_NAME,\"select2-selection__arrow\")\n",
    "s[0].click()\n",
    "driver.find_element(By.CLASS_NAME,\"select2-search__field\").send_keys(\"china\")\n",
    "driver.find_element(By.CLASS_NAME,\"select2-search__field\").send_keys(Keys.ENTER);\n",
    "driver.find_element(\"name\",\"phone\").send_keys(\"9542222602\")\n",
    "driver.find_element(\"name\",\"email\").send_keys(\"nandakishore087@gmail.com\")\n",
    "s[1].click()\n",
    "driver.find_element(By.CLASS_NAME,\"select2-search__field\").send_keys(\"india\")\n",
    "time.sleep(5)\n",
    "driver.find_element(By.CLASS_NAME,\"select2-search__field\").send_keys(Keys.ENTER);\n",
    "s[2].click()\n",
    "time.sleep(3)\n",
    "driver.find_element(By.CLASS_NAME,\"select2-search__field\").send_keys(\"andhra\")\n",
    "\n",
    "driver.find_element(By.CLASS_NAME,\"select2-search__field\").send_keys(Keys.ENTER);\n",
    "s[3].click()\n",
    "time.sleep(3)\n",
    "driver.find_element(By.CLASS_NAME,\"select2-search__field\").send_keys(\"krishna\")\n",
    "\n",
    "driver.find_element(By.CLASS_NAME,\"select2-search__field\").send_keys(Keys.ENTER);\n",
    "s[4].click()\n",
    "time.sleep(3)\n",
    "driver.find_element(By.CLASS_NAME,\"select2-search__field\").send_keys(\"under\")\n",
    "\n",
    "driver.find_element(By.CLASS_NAME,\"select2-search__field\").send_keys(Keys.ENTER);\n",
    "s[5].click()\n",
    "time.sleep(3)\n",
    "driver.find_element(By.CLASS_NAME,\"select2-search__field\").send_keys(\"computer\")\n",
    "\n",
    "driver.find_element(By.CLASS_NAME,\"select2-search__field\").send_keys(Keys.ENTER);\n",
    "\n",
    "s[6].click()\n",
    "time.sleep(3)\n",
    "driver.find_element(By.CLASS_NAME,\"select2-search__field\").send_keys(\"python\")\n",
    "\n",
    "driver.find_element(By.CLASS_NAME,\"select2-search__field\").send_keys(Keys.ENTER);\n",
    "driver.find_element(\"name\",\"current_employer\").send_keys(\"anumolu\")\n",
    "driver.find_element(\"name\",\"join-date\").send_keys(\"02/10/2023\")\n",
    "driver.find_element(\"name\",\"total_experience\").send_keys(\"22\")\n",
    "driver.find_element(\"name\",\"relevant_experience\").send_keys(\"22\")\n",
    "driver.find_element(\"name\",\"total_experience\").send_keys(\"22\")\n",
    "driver.find_element(\"name\",\"notice_period\").send_keys(\"2\")\n",
    "\n",
    "from selenium.webdriver.support.ui import Select\n",
    "sel = Select(driver.find_element_by_xpath(\"//*[@id='work_authorization']\"))\n",
    "#select by select_by_visible_text() method\n",
    "sel.select_by_visible_text(\"Yes\")\n",
    "time.sleep(0.8)\n",
    "\n",
    "\n",
    "# s = driver.find_element_by_xpath('//*[@id=\"buttonid\"]')\n",
    "# #file path specified with send_keys\n",
    "# s.send_keys(\"C:\\Users\\nanda\\Downloads\\WiDS2023Workshop.pdf\")\n"
   ]
  },
  {
   "cell_type": "markdown",
   "id": "06d0e8a4",
   "metadata": {},
   "source": []
  },
  {
   "cell_type": "code",
   "execution_count": 38,
   "id": "3a7fc2b9",
   "metadata": {},
   "outputs": [
    {
     "name": "stdout",
     "output_type": "stream",
     "text": [
      "<selenium.webdriver.remote.webelement.WebElement (session=\"96db26cbd448876481bb204cdc77b30e\", element=\"49e37499-4e21-4c30-8e90-a541aba6478b\")>\n",
      "<selenium.webdriver.remote.webelement.WebElement (session=\"96db26cbd448876481bb204cdc77b30e\", element=\"5ffadc78-515c-4070-96c8-522a16e6b8c7\")>\n",
      "<selenium.webdriver.remote.webelement.WebElement (session=\"96db26cbd448876481bb204cdc77b30e\", element=\"5b967047-10a0-4525-8c3a-28549a8d7a52\")>\n",
      "<selenium.webdriver.remote.webelement.WebElement (session=\"96db26cbd448876481bb204cdc77b30e\", element=\"df3b8bdb-baac-4507-9bae-be3d4986614d\")>\n",
      "<selenium.webdriver.remote.webelement.WebElement (session=\"96db26cbd448876481bb204cdc77b30e\", element=\"91e81e48-ed3e-4f2e-b77e-c1618564d820\")>\n",
      "<selenium.webdriver.remote.webelement.WebElement (session=\"96db26cbd448876481bb204cdc77b30e\", element=\"425847cb-bd64-4817-b013-d456168af55a\")>\n",
      "<selenium.webdriver.remote.webelement.WebElement (session=\"96db26cbd448876481bb204cdc77b30e\", element=\"fead7ce5-b3f0-43f0-be3d-55611388d8a0\")>\n"
     ]
    }
   ],
   "source": [
    "s=driver.find_elements(By.CLASS_NAME,\"select2-selection--single\")\n",
    "for i in s:\n",
    "    print(i)"
   ]
  },
  {
   "cell_type": "code",
   "execution_count": null,
   "id": "67c1fa60",
   "metadata": {},
   "outputs": [],
   "source": []
  }
 ],
 "metadata": {
  "kernelspec": {
   "display_name": "Python 3 (ipykernel)",
   "language": "python",
   "name": "python3"
  },
  "language_info": {
   "codemirror_mode": {
    "name": "ipython",
    "version": 3
   },
   "file_extension": ".py",
   "mimetype": "text/x-python",
   "name": "python",
   "nbconvert_exporter": "python",
   "pygments_lexer": "ipython3",
   "version": "3.9.13"
  }
 },
 "nbformat": 4,
 "nbformat_minor": 5
}
