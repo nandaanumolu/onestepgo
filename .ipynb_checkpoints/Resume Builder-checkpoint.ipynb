{
 "cells": [
  {
   "cell_type": "code",
   "execution_count": 1,
   "id": "da2c064e",
   "metadata": {},
   "outputs": [],
   "source": [
    "resume_sections=[\"Personal Details\",\"Objective\",\"Experience\",\"Education\",\"Skills\",\"Projects\",\"Achievements\"]"
   ]
  },
  {
   "cell_type": "code",
   "execution_count": 2,
   "id": "1deaf061",
   "metadata": {},
   "outputs": [],
   "source": [
    "import cohere\n",
    "co = cohere.Client('t1xKD65rrCK3vREVqBtSKaqk0kY24CtN1w429WhL') # This is your trial API key\n"
   ]
  },
  {
   "cell_type": "code",
   "execution_count": 3,
   "id": "ae94d712",
   "metadata": {},
   "outputs": [],
   "source": [
    "def algo(seq):\n",
    "    response = co.generate(\n",
    "    model='command-xlarge-nightly',\n",
    "    prompt=seq,\n",
    "    max_tokens=300,\n",
    "    temperature=0.9,\n",
    "    k=0,\n",
    "    p=0.75,\n",
    "    stop_sequences=[],\n",
    "    return_likelihoods='NONE')\n",
    "    print('Prediction: {}'.format(response.generations[0].text))"
   ]
  },
  {
   "cell_type": "code",
   "execution_count": 4,
   "id": "bfabf0ee",
   "metadata": {},
   "outputs": [
    {
     "name": "stdout",
     "output_type": "stream",
     "text": [
      "Prediction: \n",
      "How many years of experience do you have in this field?\n",
      "What are your greatest strengths?\n",
      "What are your weaknesses?\n",
      "Tell me about a time when you had to overcome a challenge at work. \n",
      "Tell me about a time when you had to work with a team to achieve a goal.\n",
      "What are your goals for the future?\n",
      "What do you hope to accomplish in your career?\n"
     ]
    }
   ],
   "source": [
    "algo(\"Genarate questions to build resume\")"
   ]
  },
  {
   "cell_type": "code",
   "execution_count": 5,
   "id": "2c7c0c6a",
   "metadata": {},
   "outputs": [
    {
     "name": "stdout",
     "output_type": "stream",
     "text": [
      "Prediction: \n",
      "1. What is your area of expertise?\n",
      "2. What programming languages do you know?\n",
      "3. What projects have you worked on?\n",
      "4. What is your experience with teamwork? \n",
      "5. What is your favorite part about being a developer? \n",
      "6. What is your least favorite part about being a developer? \n",
      "7. What are you looking for in a new position? \n",
      "8. What are your career goals? \n",
      "9. What do you like to do outside of work? \n",
      "10. Anything else you would like to share?\n"
     ]
    }
   ],
   "source": [
    "algo('''i am nanda kishore completed my BE in 2022, i am good at back-end\n",
    "generate questions to  know  more about his profile to genarate best resume to him''')"
   ]
  },
  {
   "cell_type": "code",
   "execution_count": 6,
   "id": "1c0349e9",
   "metadata": {},
   "outputs": [],
   "source": [
    "basic_questions={\n",
    "    \"What is Your Name?\":\"name\",\n",
    "    \"What is Your Mailid?\":\"mail\",\n",
    "    \"What is Your Contact No?\":\"no\",\n",
    "    \"How You can showcase yourself to others?\":\"objective\",\n",
    "   \"What is Experience?\": \"experience\",\n",
    "    \"What is Your Education?\":\"education\",\n",
    "    \"What is Your Skills?\":\"skills\",\n",
    "   \"What is Your Projects?\": \"projects\",\n",
    "    \"What is Your Achievements?\":\"achievements\"\n",
    "}\n",
    "ans_dict={\"name\":\"\",\"mail\":\"\",\"no\":\"\",\"objective\":\"\",\n",
    "         \"experience\":\"\",\"education\":\"\",\"skills\":[],\"projects\":\"\",\"achievements\":\"\"}"
   ]
  },
  {
   "cell_type": "code",
   "execution_count": 7,
   "id": "2f31e9ee",
   "metadata": {},
   "outputs": [
    {
     "name": "stdout",
     "output_type": "stream",
     "text": [
      "What is Your Name?\n",
      "Nanda\n",
      "What is Your Mailid?\n",
      "nanda@gmail.com\n",
      "What is Your Contact No?\n",
      "9542222602\n",
      "How You can showcase yourself to others?\n",
      "abc\n",
      "What is Experience?\n",
      "12\n",
      "What is Your Education?\n",
      "be,cse\n",
      "What is Your Skills?\n",
      "python, java, data science\n",
      "What is Your Projects?\n",
      "applyuni,whatsapp chatbot\n",
      "What is Your Achievements?\n",
      "techclub president, google cloud certification\n"
     ]
    }
   ],
   "source": [
    "for question in basic_questions.keys():\n",
    "    print(question)\n",
    "    ans=input()\n",
    "    temp=basic_questions[question]\n",
    "    ans_dict[temp]=ans\n",
    "    "
   ]
  },
  {
   "cell_type": "code",
   "execution_count": 13,
   "id": "b24c6f1f",
   "metadata": {},
   "outputs": [],
   "source": [
    "keys=list(ans_dict.keys())"
   ]
  },
  {
   "cell_type": "code",
   "execution_count": 16,
   "id": "6902257f",
   "metadata": {},
   "outputs": [
    {
     "data": {
      "text/plain": [
       "{'name': 'Nanda',\n",
       " 'mail': 'nanda@gmail.com',\n",
       " 'no': '9542222602',\n",
       " 'objective': 'abc',\n",
       " 'experience': '12',\n",
       " 'education': 'be,cse',\n",
       " 'skills': 'python, java, data science',\n",
       " 'projects': 'applyuni,whatsapp chatbot',\n",
       " 'achievements': 'techclub president, google cloud certification'}"
      ]
     },
     "execution_count": 16,
     "metadata": {},
     "output_type": "execute_result"
    }
   ],
   "source": [
    "ans_dict"
   ]
  },
  {
   "cell_type": "code",
   "execution_count": 19,
   "id": "b2a82931",
   "metadata": {},
   "outputs": [
    {
     "name": "stdout",
     "output_type": "stream",
     "text": [
      "Prediction:  etc.\n",
      "What are your favorite programming languages?\n",
      "What is your experience with data analysis and modeling?\n",
      "What is your experience with data visualization?\n",
      "What is your experience with machine learning and/or deep learning?\n",
      "What is your experience with natural language processing?\n",
      "What is your experience with software development and/or web development?\n",
      "What is your experience with cloud computing?\n",
      "What is your experience with computer vision?\n",
      "What is your experience with cybersecurity?\n",
      "What is your experience with system administration?\n",
      "What is your experience with network administration?\n",
      "What is your experience with database administration?\n"
     ]
    }
   ],
   "source": [
    "algo(\"Genarate best questions to know anything like \"+str(keys[6])+\" \"+str(ans_dict[keys[6]]))"
   ]
  },
  {
   "cell_type": "code",
   "execution_count": 24,
   "id": "d3333933",
   "metadata": {},
   "outputs": [],
   "source": [
    "def summ(seq):\n",
    "    response =co.summarize(\n",
    "    model='summarize-xlarge',\n",
    "    length='medium',\n",
    "    extractiveness='medium',\n",
    "        text=seq,\n",
    "        \n",
    "        \n",
    "    )\n",
    "    summary = response.summary\n",
    "    print('Prediction: {}'.format(summary))"
   ]
  },
  {
   "cell_type": "code",
   "execution_count": 28,
   "id": "161fa473",
   "metadata": {},
   "outputs": [
    {
     "name": "stdout",
     "output_type": "stream",
     "text": [
      "Prediction: Python, R, and SQL are popular languages for data analysis and modeling. For data visualization, tools like Tableau, Power BI, and Matplotlib are commonly used. Machine learning and deep learning frameworks such as TensorFlow, PyTorch, and Scikit-learn are widely used for data modeling and prediction tasks. NLP libraries like NLTK, Spacy, and Gensim are frequently used to analyze and process textual data.\n"
     ]
    }
   ],
   "source": [
    "summ('''\n",
    "Python, R, and SQL are popular languages for data analysis and modeling.\n",
    "For data visualization, tools like Tableau, Power BI, and Matplotlib are commonly used.\n",
    "Machine learning and deep learning frameworks such as TensorFlow, PyTorch, and Scikit-learn are widely used for data modeling and prediction tasks.\n",
    "Natural language processing (NLP) libraries like NLTK, Spacy, and Gensim are frequently used to analyze and process textual data.\n",
    " Skills in SQL, data modeling, and database management systems like MySQL, Oracle, and MongoDB are typically required.\n",
    "''')"
   ]
  },
  {
   "cell_type": "code",
   "execution_count": 3,
   "id": "e50e7f34",
   "metadata": {},
   "outputs": [
    {
     "name": "stdout",
     "output_type": "stream",
     "text": [
      "nanda\n"
     ]
    }
   ],
   "source": [
    "print(\"nanda\")"
   ]
  },
  {
   "cell_type": "code",
   "execution_count": null,
   "id": "948f0c2b",
   "metadata": {},
   "outputs": [],
   "source": []
  }
 ],
 "metadata": {
  "kernelspec": {
   "display_name": "Python 3 (ipykernel)",
   "language": "python",
   "name": "python3"
  },
  "language_info": {
   "codemirror_mode": {
    "name": "ipython",
    "version": 3
   },
   "file_extension": ".py",
   "mimetype": "text/x-python",
   "name": "python",
   "nbconvert_exporter": "python",
   "pygments_lexer": "ipython3",
   "version": "3.10.4"
  }
 },
 "nbformat": 4,
 "nbformat_minor": 5
}
