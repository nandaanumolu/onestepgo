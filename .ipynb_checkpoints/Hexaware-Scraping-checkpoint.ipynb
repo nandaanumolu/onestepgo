{
 "cells": [
  {
   "cell_type": "code",
   "execution_count": 3,
   "id": "cd9fdd74",
   "metadata": {},
   "outputs": [
    {
     "name": "stdout",
     "output_type": "stream",
     "text": [
      "Requirement already satisfied: lxml in c:\\users\\nanda\\anaconda3\\lib\\site-packages (4.9.1)\n"
     ]
    }
   ],
   "source": [
    "!pip install lxml"
   ]
  },
  {
   "cell_type": "code",
   "execution_count": 1,
   "id": "a97c77e9",
   "metadata": {},
   "outputs": [],
   "source": [
    "# //*[@id=\"jobs\"]/div[2]/div/div\n",
    "# //*[@id=\"jobs\"]/div[3]/div/div\n",
    "# //*[@id=\"jobs\"]/div[2]/div/div/div/div[3]/ul/li[1]\n",
    "# //*[@id=\"jobs\"]/div[2]/div/div/div/div[3]/ul/li[2]\n",
    "# //*[@id=\"jobs\"]/div[2]/div/div/div/div[3]/ul/li[1]"
   ]
  },
  {
   "cell_type": "code",
   "execution_count": 4,
   "id": "f120a42c",
   "metadata": {},
   "outputs": [],
   "source": [
    "from lxml import html\n",
    "import requests"
   ]
  },
  {
   "cell_type": "code",
   "execution_count": null,
   "id": "80abb2fa",
   "metadata": {},
   "outputs": [],
   "source": []
  },
  {
   "cell_type": "code",
   "execution_count": 5,
   "id": "fdcc4acf",
   "metadata": {},
   "outputs": [
    {
     "data": {
      "text/plain": [
       "<Element a at 0x20f96927b30>"
      ]
     },
     "execution_count": 5,
     "metadata": {},
     "output_type": "execute_result"
    }
   ],
   "source": [
    "url=\"https://jobs.hexaware.com/page/1\"\n",
    "res=requests.get(url)\n",
    "tree=html.fromstring(res.content)\n",
    "elements=tree.xpath('//*[@id=\"jobscard-applynow\"]')\n",
    "elements[0]"
   ]
  },
  {
   "cell_type": "code",
   "execution_count": 6,
   "id": "ee1d3d72",
   "metadata": {},
   "outputs": [
    {
     "name": "stdout",
     "output_type": "stream",
     "text": [
      "Apply Now\n",
      "Apply Now\n",
      "Apply Now\n",
      "Apply Now\n",
      "Apply Now\n",
      "Apply Now\n",
      "Apply Now\n",
      "Apply Now\n"
     ]
    }
   ],
   "source": [
    "for i in elements:\n",
    "    print(i.text)"
   ]
  },
  {
   "cell_type": "code",
   "execution_count": 7,
   "id": "7d395293",
   "metadata": {},
   "outputs": [
    {
     "name": "stdout",
     "output_type": "stream",
     "text": [
      "1\n",
      "2\n",
      "3\n",
      "4\n",
      "5\n"
     ]
    }
   ],
   "source": [
    "i=1\n",
    "all={}\n",
    "while(True):\n",
    "    url=\"https://jobs.hexaware.com/page/\"+str(i)\n",
    "    res=requests.get(url)\n",
    "    tree=html.fromstring(res.content)\n",
    "    elements=tree.xpath('//*[@id=\"jobs\"]/div[*]/div/div/div/h5')\n",
    "    if(len(elements)==0):\n",
    "        break\n",
    "    if(\"job_title\" not in all.keys()):\n",
    "        all[\"job_title\"]=elements\n",
    "    else:\n",
    "        all[\"job_title\"]=all[\"job_title\"]+elements\n",
    "    elements=tree.xpath('//*[@id=\"jobs\"]/div[*]/div/div/div/div[*]/ul/li[1]')\n",
    "    if(\"exp\" not in all.keys()):\n",
    "        all[\"exp\"]=elements\n",
    "    else:\n",
    "        all[\"exp\"]=all[\"exp\"]+elements\n",
    "    elements=tree.xpath('//*[@id=\"jobs\"]/div[*]/div/div/div/div[*]/ul/li[2]')\n",
    "    if(\"sal\" not in all.keys()):\n",
    "        all[\"sal\"]=elements\n",
    "    else:\n",
    "        all[\"sal\"]=all[\"sal\"]+elements\n",
    "    elements=tree.xpath('//*[@id=\"jobs\"]/div[*]/div/div/div/div[*]/ul/li[3]')\n",
    "    if(\"loc\" not in all.keys()):\n",
    "        all[\"loc\"]=elements\n",
    "    else:\n",
    "        all[\"loc\"]=all[\"loc\"]+elements\n",
    "    elements=tree.xpath('//*[@id=\"jobscard-applynow\"]')\n",
    "    if(\"link\" not in all.keys()):\n",
    "        all[\"link\"]=elements\n",
    "    else:\n",
    "        all[\"link\"]=all[\"link\"]+elements\n",
    "    print(i)\n",
    "    \n",
    "    i=i+1\n",
    "   "
   ]
  },
  {
   "cell_type": "code",
   "execution_count": 8,
   "id": "03718092",
   "metadata": {},
   "outputs": [
    {
     "name": "stdout",
     "output_type": "stream",
     "text": [
      "36\n"
     ]
    }
   ],
   "source": [
    "print(len(all[\"job_title\"]))"
   ]
  },
  {
   "cell_type": "code",
   "execution_count": 9,
   "id": "f1ad7a73",
   "metadata": {},
   "outputs": [],
   "source": [
    "for i in all.keys():\n",
    "    temp=[]\n",
    "    if(i==\"link\"):\n",
    "        for j in all[i]:\n",
    "            temp.append(j.attrib[\"href\"])\n",
    "        all[i]=temp\n",
    "    else:\n",
    "        for j in all[i]:\n",
    "            #print(j)\n",
    "            temp.append(j.text)\n",
    "        all[i]=temp"
   ]
  },
  {
   "cell_type": "code",
   "execution_count": 10,
   "id": "af3b8b3c",
   "metadata": {},
   "outputs": [
    {
     "data": {
      "text/plain": [
       "36"
      ]
     },
     "execution_count": 10,
     "metadata": {},
     "output_type": "execute_result"
    }
   ],
   "source": [
    "len(all[\"link\"])"
   ]
  },
  {
   "cell_type": "code",
   "execution_count": 24,
   "id": "019bc452",
   "metadata": {},
   "outputs": [],
   "source": [
    "import re\n",
    "url=\"https://jobs.hexaware.com/job/analytics-data-science-and-iot-lead-230120?cp=0&p=0\"\n",
    "res=requests.get(url)\n",
    "tree=html.fromstring(res.content)\n",
    "elements=tree.xpath('/html/body/div[1]/section[1]/div/div/div[2]//text()')\n",
    "\n",
    "ul=[]\n",
    "for i in range(0,len(elements)):\n",
    "    a=re.sub(r'\\r\\n|\\xa0','',elements[i])\n",
    "    if(len(a.strip())!=0):\n",
    "        ul.append(a)\n",
    "       "
   ]
  },
  {
   "cell_type": "code",
   "execution_count": 25,
   "id": "a07a40b4",
   "metadata": {},
   "outputs": [
    {
     "data": {
      "text/plain": [
       "['HIR ING',\n",
       " 'Job Skills',\n",
       " 'Data Science - Python, Data Science - Python, BI/BA                         ',\n",
       " 'Description',\n",
       " 'Responsibilities:',\n",
       " 'Understanding the requirement and ability to relate to statistical algorithms',\n",
       " 'Knowing the Acceptance Criteria and ways to achieve the same',\n",
       " 'Complete understanding of Business Processes and data',\n",
       " 'Performing EDA (Exploratory Data Analysis) cleansing, data preprocessing data munging and create training data sets',\n",
       " 'Using the right Statistical models and other statistical methods ',\n",
       " 'Deploying the statistical model using the technology of customers’ preference',\n",
       " 'Building Data Pipeline , Machine Learning Pipeline and Monitoring activities are set for Continuous Integration , Continuous Development and Continuous Testing',\n",
       " 'Investigating Statistical Model & provide resolution when there is any data drift and performance issues',\n",
       " 'The Role Offers:',\n",
       " 'Opportunity to join a global team to do meaningful work that contributes to global strategy and individual development',\n",
       " 'To re-imagine, redesign, and apply technology to add value to the business and operations',\n",
       " 'Multiple opportunity to showcase candidates’ strong analytical skills and problem-solving ability',\n",
       " 'Ways to grow as an individual and expand the domain knowledge to be able to add value ',\n",
       " 'Essential Skills:',\n",
       " 'Strong Python development experience with Python, Pandas , NumPy, Pyspark',\n",
       " 'Strong knowledge on AWS services such as (EMR,Glue, S3, RDS, EC2, Lambda, SQS, SNS, Redshift,Step functions)',\n",
       " 'Having prior working experience in Fannie Mae will be added advantage',\n",
       " 'Good Knowledge on SQL and database (Oracle, RDS etc)',\n",
       " 'Worked on large data stores and lots of tables in relational databases and Data Analytics environments',\n",
       " 'Good communication and documentation skills',\n",
       " 'Essential Qualification:',\n",
       " 'Bachelor’s degree in Computer Science, Software Engineering, MIS or equivalent degree.']"
      ]
     },
     "execution_count": 25,
     "metadata": {},
     "output_type": "execute_result"
    }
   ],
   "source": [
    "ul"
   ]
  },
  {
   "cell_type": "code",
   "execution_count": 12,
   "id": "babbfc9c",
   "metadata": {},
   "outputs": [
    {
     "data": {
      "text/plain": [
       "'https://jobs.hexaware.com/job/analytics-data-science-and-iot-lead-230120?cp=0&p=0'"
      ]
     },
     "execution_count": 12,
     "metadata": {},
     "output_type": "execute_result"
    }
   ],
   "source": [
    "all[\"link\"][0]"
   ]
  },
  {
   "cell_type": "code",
   "execution_count": null,
   "id": "94b2da2e",
   "metadata": {},
   "outputs": [],
   "source": []
  }
 ],
 "metadata": {
  "kernelspec": {
   "display_name": "Python 3",
   "language": "python",
   "name": "python3"
  },
  "language_info": {
   "codemirror_mode": {
    "name": "ipython",
    "version": 3
   },
   "file_extension": ".py",
   "mimetype": "text/x-python",
   "name": "python",
   "nbconvert_exporter": "python",
   "pygments_lexer": "ipython3",
   "version": "3.8.8"
  }
 },
 "nbformat": 4,
 "nbformat_minor": 5
}
