{
 "cells": [
  {
   "cell_type": "code",
   "execution_count": 26,
   "id": "6443b268",
   "metadata": {},
   "outputs": [],
   "source": [
    "from selenium import webdriver\n",
    "from selenium.webdriver.common.keys import Keys"
   ]
  },
  {
   "cell_type": "code",
   "execution_count": null,
   "id": "665c2adf",
   "metadata": {},
   "outputs": [],
   "source": []
  },
  {
   "cell_type": "code",
   "execution_count": 44,
   "id": "a092d061",
   "metadata": {},
   "outputs": [],
   "source": [
    "driver = webdriver.Chrome() "
   ]
  },
  {
   "cell_type": "code",
   "execution_count": 69,
   "id": "898a3a63",
   "metadata": {},
   "outputs": [],
   "source": [
    "button.click()"
   ]
  },
  {
   "cell_type": "code",
   "execution_count": 58,
   "id": "1457afec",
   "metadata": {},
   "outputs": [
    {
     "name": "stdout",
     "output_type": "stream",
     "text": [
      "<selenium.webdriver.remote.webelement.WebElement (session=\"82816a1920a115f147d09bfd5c173c2a\", element=\"ad6291d9-b107-4606-abc8-578851158796\")>\n",
      "<selenium.webdriver.remote.webelement.WebElement (session=\"82816a1920a115f147d09bfd5c173c2a\", element=\"357469c2-0b3e-49fe-9f34-08c9ff4bd5c6\")>\n",
      "<selenium.webdriver.remote.webelement.WebElement (session=\"82816a1920a115f147d09bfd5c173c2a\", element=\"968ae052-da3e-4168-9c29-8bbf65dbb69b\")>\n",
      "<selenium.webdriver.remote.webelement.WebElement (session=\"82816a1920a115f147d09bfd5c173c2a\", element=\"a2742997-56b0-4294-8d9d-4b87c1abe286\")>\n",
      "<selenium.webdriver.remote.webelement.WebElement (session=\"82816a1920a115f147d09bfd5c173c2a\", element=\"4909a813-94cb-4e10-a843-6e3f479105f1\")>\n",
      "<selenium.webdriver.remote.webelement.WebElement (session=\"82816a1920a115f147d09bfd5c173c2a\", element=\"31027fd5-7178-4948-ac0e-4575cdb7e9d7\")>\n",
      "<selenium.webdriver.remote.webelement.WebElement (session=\"82816a1920a115f147d09bfd5c173c2a\", element=\"0ad365c8-1e07-4b30-83f4-f2efa1618eca\")>\n"
     ]
    }
   ],
   "source": [
    "import re,time\n",
    "from selenium.webdriver.common.by import By\n",
    "from selenium.webdriver.common.keys import Keys\n",
    "url=\"https://jobs.hexaware.com/job/analytics-data-science-and-iot-lead-230120?cp=0&p=0\"\n",
    "\n",
    "driver.get(url)\n",
    "s=driver.find_elements(By.CLASS_NAME,\"select2-selection__arrow\")\n",
    "for i in s:\n",
    "    print(i)\n",
    "driver.find_elements(By.CLASS_NAME,\"select2-search__field\")\n",
    "for i in s2:\n",
    "    print(i)\n",
    "driver.find_element(\"name\",\"first-name\").send_keys(\"nanda\")\n",
    "driver.find_element(\"name\",\"last-name\").send_keys(\"anumolu\")\n",
    "#=driver.find_element(By.CLASS_NAME,\"select2-selection__arrow\")\n",
    "s[0].click()\n",
    "driver.find_element(By.CLASS_NAME,\"select2-search__field\").send_keys(\"china\")\n",
    "driver.find_element(By.CLASS_NAME,\"select2-search__field\").send_keys(Keys.ENTER);\n",
    "driver.find_element(\"name\",\"phone\").send_keys(\"9542222602\")\n",
    "driver.find_element(\"name\",\"email\").send_keys(\"nandakishore087@gmail.com\")\n",
    "s[1].click()\n",
    "driver.find_element(By.CLASS_NAME,\"select2-search__field\").send_keys(\"india\")\n",
    "time.sleep(5)\n",
    "driver.find_element(By.CLASS_NAME,\"select2-search__field\").send_keys(Keys.ENTER);\n",
    "s[2].click()\n",
    "time.sleep(3)\n",
    "driver.find_element(By.CLASS_NAME,\"select2-search__field\").send_keys(\"andhra\")\n",
    "\n",
    "driver.find_element(By.CLASS_NAME,\"select2-search__field\").send_keys(Keys.ENTER);\n",
    "s[3].click()\n",
    "time.sleep(3)\n",
    "driver.find_element(By.CLASS_NAME,\"select2-search__field\").send_keys(\"krishna\")\n",
    "\n",
    "driver.find_element(By.CLASS_NAME,\"select2-search__field\").send_keys(Keys.ENTER);\n",
    "s[4].click()\n",
    "time.sleep(3)\n",
    "driver.find_element(By.CLASS_NAME,\"select2-search__field\").send_keys(\"under\")\n",
    "\n",
    "driver.find_element(By.CLASS_NAME,\"select2-search__field\").send_keys(Keys.ENTER);\n",
    "s[5].click()\n",
    "time.sleep(3)\n",
    "driver.find_element(By.CLASS_NAME,\"select2-search__field\").send_keys(\"computer\")\n",
    "\n",
    "driver.find_element(By.CLASS_NAME,\"select2-search__field\").send_keys(Keys.ENTER);\n",
    "\n",
    "s[6].click()\n",
    "time.sleep(3)\n",
    "driver.find_element(By.CLASS_NAME,\"select2-search__field\").send_keys(\"python\")\n",
    "\n",
    "driver.find_element(By.CLASS_NAME,\"select2-search__field\").send_keys(Keys.ENTER);\n",
    "driver.find_element(\"name\",\"current_employer\").send_keys(\"anumolu\")\n",
    "driver.find_element(\"name\",\"join-date\").send_keys(\"02/10/2023\")\n",
    "driver.find_element(\"name\",\"total_experience\").send_keys(\"22\")\n",
    "driver.find_element(\"name\",\"relevant_experience\").send_keys(\"22\")\n",
    "driver.find_element(\"name\",\"total_experience\").send_keys(\"22\")\n",
    "driver.find_element(\"name\",\"notice_period\").send_keys(\"2\")\n",
    "\n",
    "from selenium.webdriver.support.ui import Select\n",
    "sel = Select(driver.find_element_by_xpath(\"//*[@id='work_authorization']\"))\n",
    "#select by select_by_visible_text() method\n",
    "sel.select_by_visible_text(\"Yes\")\n",
    "time.sleep(0.8)\n",
    "\n",
    "\n",
    "# s = driver.find_element_by_xpath('//*[@id=\"buttonid\"]')\n",
    "# #file path specified with send_keys\n",
    "# s.send_keys(\"C:\\Users\\nanda\\Downloads\\WiDS2023Workshop.pdf\")\n"
   ]
  },
  {
   "cell_type": "markdown",
   "id": "06d0e8a4",
   "metadata": {},
   "source": []
  },
  {
   "cell_type": "code",
   "execution_count": null,
   "id": "67c1fa60",
   "metadata": {},
   "outputs": [],
   "source": []
  }
 ],
 "metadata": {
  "kernelspec": {
   "display_name": "Python 3 (ipykernel)",
   "language": "python",
   "name": "python3"
  },
  "language_info": {
   "codemirror_mode": {
    "name": "ipython",
    "version": 3
   },
   "file_extension": ".py",
   "mimetype": "text/x-python",
   "name": "python",
   "nbconvert_exporter": "python",
   "pygments_lexer": "ipython3",
   "version": "3.9.13"
  }
 },
 "nbformat": 4,
 "nbformat_minor": 5
}
